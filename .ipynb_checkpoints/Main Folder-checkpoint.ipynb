{
 "cells": [
  {
   "cell_type": "code",
   "execution_count": null,
   "metadata": {},
   "outputs": [],
   "source": [
    "#Initialize The Profit and Loss Varibles\n",
    "Count=0\n",
    "Total=0\n",
    "Average=0\n",
    "Minimum=0\n",
    "Maximum=0\n",
    "\n",
    "#Initilize List to hold profitable and unprofitable months Profits/Loses\n",
    "Profitable months =[]\n",
    "Unprofitable Months=[]\n",
    "\n",
    "#list of monthly profits/loses\n",
    "Monthly_P&L = {}\n",
    "\n"
   ]
  },
  {
   "cell_type": "code",
   "execution_count": null,
   "metadata": {
    "jupyter": {
     "source_hidden": true
    }
   },
   "outputs": [],
   "source": []
  }
 ],
 "metadata": {
  "kernelspec": {
   "display_name": "Python 3",
   "language": "python",
   "name": "python3"
  },
  "language_info": {
   "codemirror_mode": {
    "name": "ipython",
    "version": 3
   },
   "file_extension": ".py",
   "mimetype": "text/x-python",
   "name": "python",
   "nbconvert_exporter": "python",
   "pygments_lexer": "ipython3",
   "version": "3.7.4"
  }
 },
 "nbformat": 4,
 "nbformat_minor": 4
}
